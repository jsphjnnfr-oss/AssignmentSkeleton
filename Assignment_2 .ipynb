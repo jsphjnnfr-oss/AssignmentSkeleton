{
 "cells": [
  {
   "cell_type": "code",
   "execution_count": 13,
   "id": "20a8586b-a00e-4d57-9b8b-2740db2165c8",
   "metadata": {},
   "outputs": [
    {
     "data": {
      "image/png": "[encoded data removed]",
      "text/plain": [
       "<Figure size 1200x600 with 1 Axes>"
      ]
     },
     "metadata": {},
     "output_type": "display_data"
    }
   ],
   "source": [
    "import matplotlib.pyplot as plt\n",
    "import matplotlib.patches as patches\n",
    "\n",
    "# plot a tennis court. \n",
    "\n",
    "# Scale: 1 meter = 120 pixels ( picked this randomly until it look good) \n",
    "scale = 120\n",
    "\n",
    "# Tennis court dimensions in meters\n",
    "court_length = 23.77\n",
    "court_width = 10.97\n",
    "service_line_distance = 6.40\n",
    "net_y = court_length / 2\n",
    "\n",
    "# Create figure\n",
    "fig, ax = plt.subplots(figsize=(12, 6))\n",
    "\n",
    "# Draw outer court\n",
    "outer_court = patches.Rectangle((0, 0), court_width*scale, court_length*scale, linewidth=2, edgecolor='green', facecolor='lightgreen')\n",
    "ax.add_patch(outer_court)\n",
    "\n",
    "# Singles sidelines\n",
    "ax.plot([ (court_width_doubles - court_width_singles)/2*scale, (court_width_doubles - court_width_singles)/2*scale], [0, court_length*scale], color='blue', linewidth=2)\n",
    "ax.plot([ (court_width_doubles + court_width_singles)/2*scale, (court_width_doubles + court_width_singles)/2*scale], [0, court_length*scale], color='blue', linewidth=2)\n",
    "\n",
    "\n",
    "# Draw singles sidelines (same as outer for singles)\n",
    "# Draw baselines\n",
    "baseline_top = patches.Rectangle((0, court_length*scale), court_width*scale, 0, linewidth=2, edgecolor='green')\n",
    "baseline_bottom = patches.Rectangle((0, 0), court_width*scale, 0, linewidth=2, edgecolor='green')\n",
    "# matplotlib draws lines as rectangles with height 0, so we can skip this and just use plot()\n",
    "\n",
    "# Draw net\n",
    "ax.plot([0, court_width*scale], [net_y*scale, net_y*scale], color='black', linewidth=2)\n",
    "\n",
    "# Draw service lines\n",
    "ax.plot([0, court_width*scale], [(net_y - service_line_distance)*scale]*2, color='blue', linewidth=2)\n",
    "ax.plot([0, court_width*scale], [(net_y + service_line_distance)*scale]*2, color='blue', linewidth=2)\n",
    "\n",
    "# Draw center service line\n",
    "ax.plot([court_width*scale/2, court_width*scale/2], [(net_y - service_line_distance)*scale, (net_y + service_line_distance)*scale], color='blue', linewidth=2)\n",
    "\n",
    "# Draw center mark on baselines (0.1 m width in reality)\n",
    "center_mark_width = 0.1 * scale\n",
    "ax.plot([court_width*scale/2, court_width*scale/2], [0, 0.2*scale], color='black', linewidth=2)\n",
    "ax.plot([court_width*scale/2, court_width*scale/2], [court_length*scale - 0.2*scale, court_length*scale], color='black', linewidth=2)\n",
    "\n",
    "# Set limits and aspect \n",
    "ax.set_xlim(-10, court_width*scale + 10)\n",
    "ax.set_ylim(-10, court_length*scale + 10)\n",
    "ax.set_aspect('equal')\n",
    "ax.axis('off')\n",
    "\n",
    "plt.show()\n",
    "# i think something is missing. "
   ]
  },
  {
   "cell_type": "code",
   "execution_count": null,
   "id": "15832995-9911-4ec2-8920-2ce089ebf2cb",
   "metadata": {},
   "outputs": [],
   "source": []
  }
 ],
 "metadata": {
  "kernelspec": {
   "display_name": "Python 3 (ipykernel)",
   "language": "python",
   "name": "python3"
  },
  "language_info": {
   "codemirror_mode": {
    "name": "ipython",
    "version": 3
   },
   "file_extension": ".py",
   "mimetype": "text/x-python",
   "name": "python",
   "nbconvert_exporter": "python",
   "pygments_lexer": "ipython3",
   "version": "3.12.4"
  }
 },
 "nbformat": 4,
 "nbformat_minor": 5
}
