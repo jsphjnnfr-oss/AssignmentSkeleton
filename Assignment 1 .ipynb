{
 "cells": [
  {
   "cell_type": "markdown",
   "id": "befe9d75-4acd-418d-9abd-2fa92ee8193a",
   "metadata": {},
   "source": [
    "Assigment 1 "
   ]
  },
  {
   "cell_type": "markdown",
   "id": "f609a921-cd4d-436d-b93f-41bbb4ad5f58",
   "metadata": {},
   "source": [
    ". What is “git”?\n",
    "• You remove the wrong file. Can git help you get it back?\n",
    "• You made a change that broke everything. How could git help you roll back?\n",
    "• How does this help working with teammates?\n",
    "• How can you version your code? Why should you version your code? "
   ]
  },
  {
   "cell_type": "markdown",
   "id": "1badbe82-6513-43bb-ad65-51cc34d20566",
   "metadata": {},
   "source": [
    "1) Git is a version control system, like a giant library for your project. It stores every version of your code throughout the project’s lifetime, tracks changes to files over time, and makes collaboration much easier."
   ]
  },
  {
   "cell_type": "markdown",
   "id": "627228d5-cc02-4567-8534-342ce8b051b6",
   "metadata": {},
   "source": [
    "2) Yes, Git can help you restore that file. Since commits act like snapshots of your project at different points in time, you can go back and recover the file by finding the last commit before it was deleted"
   ]
  },
  {
   "cell_type": "markdown",
   "id": "e9353a1b-954b-4841-ba87-bd38a21eda4f",
   "metadata": {},
   "source": [
    "3) Obviously, you could do a hard reset, but that defeats the purpose. Instead, you can simply restore the file to its state before the change (the last commit) or revert the commit if the mistake was already committed"
   ]
  },
  {
   "cell_type": "markdown",
   "id": "31095955-3b74-4dbe-8578-91498f60ff38",
   "metadata": {},
   "source": [
    "4) Git allows multiple people to work on a project simultaneously without overwriting each other’s work. Each person’s changes can be stored separately in different branches and merged when ready. Since Git tracks changes, it will also alert you if you’re modifying something that someone else has already worked on."
   ]
  },
  {
   "cell_type": "markdown",
   "id": "1c9d777a-f38a-447d-a9e4-0b0b9693092d",
   "metadata": {},
   "source": [
    "5) You can version your code by tracking the changes you make. This is done by saving each change separately. Doing so helps you recover from mistakes in the future and makes it easier to manage a project when multiple people are working on it"
   ]
  }
 ],
 "metadata": {
  "kernelspec": {
   "display_name": "Python 3 (ipykernel)",
   "language": "python",
   "name": "python3"
  },
  "language_info": {
   "codemirror_mode": {
    "name": "ipython",
    "version": 3
   },
   "file_extension": ".py",
   "mimetype": "text/x-python",
   "name": "python",
   "nbconvert_exporter": "python",
   "pygments_lexer": "ipython3",
   "version": "3.12.4"
  }
 },
 "nbformat": 4,
 "nbformat_minor": 5
}
